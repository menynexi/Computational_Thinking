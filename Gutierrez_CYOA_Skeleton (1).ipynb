{
  "cells": [
    {
      "cell_type": "code",
      "source": [
        "import time\n",
        "import random\n",
        "print(\"what is your name?\")\n",
        "username = str(input())"
      ],
      "metadata": {
        "colab": {
          "base_uri": "https://localhost:8080/"
        },
        "id": "4s6UCKGucPjM",
        "outputId": "7c953627-2666-4c45-d106-9f38728cbc05"
      },
      "id": "4s6UCKGucPjM",
      "execution_count": null,
      "outputs": [
        {
          "name": "stdout",
          "output_type": "stream",
          "text": [
            "what is your name?\n",
            "menux\n"
          ]
        }
      ]
    },
    {
      "cell_type": "code",
      "execution_count": null,
      "id": "8ab541c0-d821-46e2-b68d-3213de10ce1a",
      "metadata": {
        "id": "8ab541c0-d821-46e2-b68d-3213de10ce1a",
        "outputId": "5bf1c765-3461-46b7-bf51-7658ba0c9d18",
        "colab": {
          "base_uri": "https://localhost:8080/"
        }
      },
      "outputs": [
        {
          "name": "stdout",
          "output_type": "stream",
          "text": [
            "You have died\n",
            "In front of you a personification of the Grim reaper and two chalices.\n",
            "one gold and another silver. You look in front of you the Grim Reaper\n",
            "Their eyes like an empty void that you get sucked into. Their body like black fog, shapeless.\n",
            "Hello Human pick a Cup\n",
            "you dare not refurse as when the mystery is too grate one dare not ask.\n",
            "\n",
            "choice 1: Golden Cup\n",
            "choice 2: Silver Cup (please enter an integer)\n",
            "Which choice do you want to make? Enter 1 or 2\n",
            "3\n"
          ]
        }
      ],
      "source": [
        "print(\"You have died\")\n",
        "time.sleep(1)\n",
        "print(\"In front of you a personification of the Grim reaper and two chalices.\")\n",
        "time.sleep(3)\n",
        "print(\"one gold and another silver. You look in front of you the Grim Reaper\")\n",
        "time.sleep(3)\n",
        "print(\"Their eyes like an empty void that you get sucked into. Their body like black fog, shapeless.\")\n",
        "time.sleep(5)\n",
        "print(\"Hello Human pick a Cup\")\n",
        "time.sleep(2)\n",
        "print(\"you dare not refurse as when the mystery is too grate one dare not ask.\")\n",
        "time.sleep(4)\n",
        "print()\n",
        "print(\"choice 1: Golden Cup\\nchoice 2: Silver Cup (please enter an integer)\")\n",
        "\n",
        "choice = int(input(\"Which choice do you want to make? Enter 1 or 2\\n\"))"
      ]
    },
    {
      "cell_type": "code",
      "execution_count": null,
      "id": "0991f869-dfe2-47a1-9616-f65cef746efd",
      "metadata": {
        "id": "0991f869-dfe2-47a1-9616-f65cef746efd",
        "outputId": "6839e842-b215-42ab-acc3-e4036ba75987",
        "colab": {
          "base_uri": "https://localhost:8080/"
        }
      },
      "outputs": [
        {
          "output_type": "stream",
          "name": "stdout",
          "text": [
            "you have chosen something else: hidden option\n",
            "GRIM: YOU DARE AND BE SMART !!!! HAHAHAHAHHAHA\n",
            "You have a gust of dark wind and see nothing else, everything is being sucked in by the black wind.\n",
            "After some time only a handsome man lays before you what looks like a handsome man ??? maybe it's hard to tell\n",
            "GRIM: ARA ARA hello little one my name is BAN, what is your name [ask user for name here]\n",
            "BAN: menux what a lovely name I like it. You are the first to pass my test.\n",
            "Tough you are dead I have taken an interest in you. Will you please go on a date with me?\n",
            "choice 4: Go on a date with BAN\n",
            "choice 5: Refuse his offer\n",
            "choice 6: Try and kill him\n",
            "\n"
          ]
        }
      ],
      "source": [
        "if choice == 1: \n",
        "  time.sleep(3)\n",
        "  print(\"You have chosen the Golden Cup:\")\n",
        "  time.sleep(3)\n",
        "  print(\"GRIM: I see you are one greedy human thirsting  for gold was your first instinct Pathetic.\\nbefore you know it you are swallowed up by the darkness\")\n",
        "  time.sleep(5)\n",
        "  print(\"*Maybe in your next life don't be so greedy*\")\n",
        "  choice = -1\n",
        "elif choice == 2:\n",
        "  print(\"you have chosen the Silver Cup:\")\n",
        "  time.sleep(3)\n",
        "  print(\"GRIM: I see you only wanted prestige and shiny things what an greedy human\")\n",
        "  time.sleep(3)\n",
        "  print(\"You are a true monster, before you know it you are swallowed up by the darkness\")\n",
        "  time.sleep(3)\n",
        "  print(\"*Maybe in your next life don't be such a greedy human*\")\n",
        "  choice = -1\n",
        "else:\n",
        "  print(\"you have chosen something else: hidden option\")\n",
        "  time.sleep(3)\n",
        "  print(\"GRIM: YOU DARE AND BE SMART !!!! HAHAHAHAHHAHA\")\n",
        "  time.sleep(3)\n",
        "  print(\"You have a gust of dark wind and see nothing else, everything is being sucked in by the black wind.\")\n",
        "  time.sleep(4)\n",
        "  print(\"After some time only a handsome man lays before you what looks like a handsome man ??? maybe it's hard to tell\")\n",
        "  time.sleep(3)\n",
        "  print(\"GRIM: ARA ARA hello little one my name is BAN, what is your name \")\n",
        "  time.sleep(3)\n",
        "  print(\"BAN: \" + username + \" what a lovely name I like it. You are the first to pass my test.\")\n",
        "  time.sleep(3)\n",
        "  print(\"Tough you are dead I have taken an interest in you. Will you please go on a date with me?\")\n",
        "  time.sleep(5)\n",
        "  print(\"choice 4: Go on a date with BAN\\nchoice 5: Refuse his offer\\nchoice 6: Try and kill him\\n\")"
      ]
    },
    {
      "cell_type": "code",
      "execution_count": null,
      "id": "1aa0e5c0-5b83-4463-a0c1-f6592a63b8a5",
      "metadata": {
        "id": "1aa0e5c0-5b83-4463-a0c1-f6592a63b8a5",
        "outputId": "9fdd2015-6a4a-4d89-aa39-be7f1b2336ca",
        "colab": {
          "base_uri": "https://localhost:8080/"
        }
      },
      "outputs": [
        {
          "name": "stdout",
          "output_type": "stream",
          "text": [
            "Which choice do you want to make? enter a diget number fot your choice6\n"
          ]
        }
      ],
      "source": [
        "if(choice != -1):\n",
        "  choice = int(input(\"Which choice do you want to make? enter a digit number fot your choice\"))\n",
        "  if(choice != 4 and choice != 5 and choice != 6):\n",
        "    choice = 5"
      ]
    },
    {
      "cell_type": "code",
      "execution_count": null,
      "id": "27a3f387-03dc-4b00-b005-17c92a481dca",
      "metadata": {
        "id": "27a3f387-03dc-4b00-b005-17c92a481dca",
        "outputId": "b342eaf1-6725-4c01-9ce7-b9f304257336",
        "colab": {
          "base_uri": "https://localhost:8080/"
        }
      },
      "outputs": [
        {
          "output_type": "stream",
          "name": "stdout",
          "text": [
            "You grab the golden cup next to you and try and assault BAN\n",
            "will you be successful it all up to luck\n",
            "Random event unlocked: 1% chance that it hits 99% chance it does not\n"
          ]
        }
      ],
      "source": [
        "time.sleep(3)\n",
        "if choice == 4:\n",
        "    print(\"choice 4\")\n",
        "    time.sleep(3)\n",
        "    print(\"BAN: gosh you have such a beautiful smile wonderful !!!\")\n",
        "    time.sleep(3)\n",
        "    print(\"BAN: It has been 3000 millennial since I have gone on a date with a human.\")\n",
        "    time.sleep(3)\n",
        "    print(\"BAN: tell me what would do people do on dates it has been so long since I have been on one.\")\n",
        "    time.sleep(4)\n",
        "    print(\"choice 7: Let's go eat, do they have restaurants here ?\")\n",
        "    print(\"Choice 8: Let's go mini golfing, do you know what golf is?\")\n",
        "    print(\"Choice 9: Netflix and ....I mean lets watch a movie?)\")\n",
        "    time.sleep(5)                    \n",
        "elif choice == 5:\n",
        "    print(\"choice 5+:\")\n",
        "    time.sleep(3)\n",
        "    print(\"BAN: Playing hard to get huh, NO ONE LIKES REJECTION.\")\n",
        "    time.sleep(3) \n",
        "    print(\"I thought you were different but it turns out you're just a prideful Human being.\")\n",
        "    time.sleep(3)\n",
        "    print(\"May your soul rest in eternity  farewell \" + username)\n",
        "    print()\n",
        "    choice = -1\n",
        "elif choice == 6:\n",
        "  print(\"You grab the golden cup next to you and try and assault BAN\")\n",
        "  time.sleep(3)\n",
        "  print(\"will you be successful it all up to luck\")\n",
        "  time.sleep(3)\n",
        "  print(\"Random event unlocked: 1% chance that it hits 99% chance it does not\")\n",
        "  chance = random.randrange(0,100)\n",
        "  if(chance < 90):\n",
        "    choice = 11\n",
        "  else:\n",
        "    choice = 10"
      ]
    },
    {
      "cell_type": "code",
      "source": [
        "if(choice != -1 and choice != 11 and choice != 10):\n",
        "    choice = int(input(\"Which choice do you want to make enter an number representing the choice you want to make?\"))"
      ],
      "metadata": {
        "id": "B9X-7EpHiRqP"
      },
      "id": "B9X-7EpHiRqP",
      "execution_count": null,
      "outputs": []
    },
    {
      "cell_type": "code",
      "source": [
        "time.sleep(4)\n",
        "if(choice == 7):\n",
        "  print(\"choice 7:\")\n",
        "  time.sleep(3)\n",
        "  print(\"BAN: Sadly we do not have restaurants in the underworld but,\")\n",
        "  time.sleep(3)\n",
        "  print(\"BAN: please choose between these two dresses and meet me in 1 hour I will prepare something for us\")\n",
        "  time.sleep(3)\n",
        "  print(\"ban hands you two diffrent outfits\")\n",
        "  time.sleep(3)\n",
        "  print(\"Choice 12: A vibrant Red dress with yellow flowers\")\n",
        "  print(\"Choice 13: An elegant black suit with red roses\")\n",
        "  print(\"Choice 14: a black hoodie and some jeans\")\n",
        "  time.sleep(4)\n",
        "elif(choice == 8):\n",
        "  print(\"choice 8:\")\n",
        "  time.sleep(3)\n",
        "  print(\"BAN: we actually do have mini golf in the underworld\")\n",
        "  time.sleep(3)\n",
        "  print(\"BAN: its is a small diorama for the underworld my subordinates really like it\")\n",
        "  time.sleep(3)\n",
        "  print(\"I have never gone there so I think it would be perfect\")\n",
        "  time.sleep(3)\n",
        "  print()\n",
        "  time.sleep(3)\n",
        "  print(\"you go to the Bottom Golf a mini golf diorama full of bright red colors and wonderful attractions,\")\n",
        "  time.sleep(3)\n",
        "  print(\"BAN and you play multiple games in various of  attractions a small windmill, some mountains, and a castle.\")\n",
        "  time.sleep(3)\n",
        "  print(\"It was a wonderful time that made you feel really happy\")\n",
        "  time.sleep(3)\n",
        "  print(\"BAN: Thank you \" + username)\n",
        "  time.sleep(3)\n",
        "  print(\"I had a wonderful time and I hope you did as well\")\n",
        "  time.sleep(3)\n",
        "  print(\"ban grabs your hand and as your heart beats you are gently hugged by a dark mist\")\n",
        "  time.sleep(3)\n",
        "  print(\"BAN: may your soul rest and find its way through the heavens \")\n",
        "  time.sleep(2)\n",
        "  print()\n",
        "  print(\"Achievement unlocked('a resting hole in one')\")\n",
        "  choice = -1\n",
        "elif(choice == 9):\n",
        "  print(\"choice 9:\")\n",
        "  time.sleep(3)\n",
        "  print(\"BAN: movies what are those ?\")\n",
        "  time.sleep(3)\n",
        "  print(\"BAN: I never heard of movies and I have lived since the creation of the world.\") \n",
        "  time.sleep(3)\n",
        "  print(\"BAN: you say some entriquint things \" + username)\n",
        "  time.sleep(3)\n",
        "  print(\"Very well please select a movie and I will ask my subordinates to fetch it for us\")\n",
        "  time.sleep(2)\n",
        "  choice = 15\n",
        "  moviename = str(input(\"please input the name of the movie you want to watch\\n\"))\n",
        "elif(choice == 10):\n",
        "  print(\"choice 10:\")\n",
        "  time.sleep(2)\n",
        "  print(\"BAN: HAHAHAHAHAHA you actually hit me, thought it was not enough you did succeed\")\n",
        "  time.sleep(3)\n",
        "  print(\"BAN: what a feisty human HAHAHAH, I want you even more.\")\n",
        "  time.sleep(3)\n",
        "  print(\"I have decided you will be my partner starting now THIS TIME YOU CAN NOT REFUSE......\")\n",
        "  time.sleep(2)\n",
        "  print(username)\n",
        "  time.sleep(1)\n",
        "  print(\"BAN: Oh I know let me cook you a meal for you what would you like?\")\n",
        "  choice = 16\n",
        "  meal = str(input(\"BAN: Oh I know let me cook you a meal for you what would you like?\"))\n",
        "  print(\"BAN: comming right up\")\n",
        "elif(choice == 11):\n",
        "  print(\"choice 11:\")\n",
        "  time.sleep(3)\n",
        "  print(\"BAN deflects your swing and grabs your neck.\")\n",
        "  time.sleep(3)\n",
        "  print(\"BAN: what a disappointment if you would have succeeded I may have let you live\")\n",
        "  time.sleep(3)\n",
        "  print(\"However, a person who will stab me in the back is of no use to me.\")\n",
        "  time.sleep(3)\n",
        "  print(\"You are swallowed by the dark mist and your soul has been put to rest\")\n",
        "  time.sleep(3)\n",
        "  print()\n",
        "  print(\"achivement unlocked('son of mad man')\")\n",
        "  choice = -1"
      ],
      "metadata": {
        "colab": {
          "base_uri": "https://localhost:8080/"
        },
        "id": "PwYHiwm4nNPT",
        "outputId": "9b8d04be-4b3d-40fb-9ada-668738e2e17d"
      },
      "id": "PwYHiwm4nNPT",
      "execution_count": null,
      "outputs": [
        {
          "output_type": "stream",
          "name": "stdout",
          "text": [
            "choice 11:\n",
            "BAN deflects your swing and grabs your neck.\n",
            "BAN: what a disappointment if you would have succeeded I may have let you live\n",
            "However, a person who will stab me in the back is of no use to me.\n",
            "You are swallowed by the dark mist and your soul has been put to rest\n",
            "\n",
            "achivement unlocked('son of mad man')\n"
          ]
        }
      ]
    },
    {
      "cell_type": "code",
      "source": [
        "if(choice != -1 and choice != 16 and choice != 15):\n",
        "    choice = int(input(\"Which choice do you want to make enter an number representing the choice you want to make?\"))"
      ],
      "metadata": {
        "id": "ktwrLxA6pvzS"
      },
      "id": "ktwrLxA6pvzS",
      "execution_count": null,
      "outputs": []
    },
    {
      "cell_type": "code",
      "source": [
        "if(choice == 12):\n",
        "  print(\"choice 12: \")\n",
        "  time.sleep(3)\n",
        "  print(\"BAN: Wow you look great [username here]. That red dress really suits you.\")\n",
        "  time.sleep(3)\n",
        "  print(\"BAN: you asked me where we are going and I just called and made reservations for 'Under The Sky Line'\") \n",
        "  time.sleep(3)\n",
        "  print(\"BAN: It is a really cool restaurant with a really nice view of the underworld \")\n",
        "  time.sleep(3)\n",
        "  print(\"BAN: lets go.\\n he grabs your hand and begins to walk  \")\n",
        "  time.sleep(3)\n",
        "  print(\"you go to the restaurant and have a really fun time with BAN. \")\n",
        "  time.sleep(3)\n",
        "  print(\"it was very romantic and at the same time very enjoyable\")\n",
        "  time.sleep(3)\n",
        "  print(\"BAN: Thank you for such a wonderfull time.\")\n",
        "  time.sleep(3)\n",
        "  print(\"BAN  but this is goodbye.\")\n",
        "  time.sleep(3)\n",
        "  print()\n",
        "  print(\"suddenly a gently mist envelops your body.\")\n",
        "  time.sleep(3)\n",
        "  print(\"BAN:  May your soul rest in the heavens little sheep.\")\n",
        "  time.sleep(3)\n",
        "  print()\n",
        "  print(\"achievement unlocked('a date under the stars')\")\n",
        "  choice = -1\n",
        "elif(choice == 13):\n",
        "  print(\"choice 13: \")\n",
        "  time.sleep(3)\n",
        "  print(\"BAN : Wow haha i never would have thought you would pick that it really 'SUITS YOU'\")\n",
        "  time.sleep(3)\n",
        "  print(\"BAN: haha get it suit, ok well let's get going I an taking you to 'UNDERDRIVE'\")\n",
        "  time.sleep(3)\n",
        "  print(\"BAN: Its a restaurant where you park your car and they serve you it has been really popular in the underworld\")\n",
        "  time.sleep(3)\n",
        "  print(\"ban takes you hand and you begin to walk there\")\n",
        "  time.sleep(3)\n",
        "  print()\n",
        "  print(\"you go to the restaurant and have a really fun time with BAN.\")\n",
        "  time.sleep(3)\n",
        "  print(\"it was very romantic and at the same time very enjoyable\")\n",
        "  time.sleep(3)\n",
        "  print()\n",
        "  print(\"BAN: Thank you for such a wonderful time. but this is goodbye. \")\n",
        "  time.sleep(3)\n",
        "  print(\"suddenly a gently mist envelops your body. May your soul rest in the heavens little sheep.\")\n",
        "  time.sleep(3)\n",
        "  print()\n",
        "  print(\"achievement unlocked ('take out for 2 please')\")\n",
        "  print(\"achievement unlocked ('was that even a pun?')\")\n",
        "  choice = -1\n",
        "elif(choice == 14):\n",
        "  print(\"choice 14: \")\n",
        "  print(\"BAN: oh I see you like casual clothes best.\")\n",
        "  print(\"BAN: I like them too, let's have a casual date then ! \")\n",
        "  print(\"BAN: I know of a great burger hole in the wall close to here. Lets go\")\n",
        "  print()\n",
        "  print(\"you go to the restaurant and have a really fun time with BAN.\")\n",
        "  time.sleep(3)\n",
        "  print(\"it was very romantic and at the same time very enjoyable\")\n",
        "  print(\"BAN: Thank you for such a wonderful time. but this is goodbye. \")\n",
        "  time.sleep(3)\n",
        "  print(\"suddenly a gently mist envelops your body. May your soul rest in the heavens little sheep.\")\n",
        "  time.sleep(3)\n",
        "  print(\"achievement unlocked('Casual player 0-0')\")\n",
        "  choice = -1\n",
        "elif(choice == 15):\n",
        "  print(\"choice 15: \")\n",
        "  time.sleep(3)\n",
        "  print(\"The movie started and the lights got low. Ban puts his arms around and.....\")\n",
        "  time.sleep(3)\n",
        "  print(\"start to trough popcorn at their face Hahaha watch the movie dork\")\n",
        "  time.sleep(3)\n",
        "  print(\"The movie \" + moviename + \" was like no other movie it was great.\")\n",
        "  time.sleep(3)\n",
        "  print(\"you begin to fall asleep and put you head over BAN's shoulder. \")\n",
        "  time.sleep(3)\n",
        "  print(\"BAN: this was really fun I had not seen that movie before. Thank you for a wonderful night\")\n",
        "  time.sleep(3)\n",
        "  print()\n",
        "  print(\"as you fall deeper into sleep you are hugged by a dark mist gently swallowing you, almost like a hug \")\n",
        "  time.sleep(3)\n",
        "  print(\"BAN: may your soul rest and find its way through the heavens\")\n",
        "  choice = -1\n",
        "  print()\n",
        "  print(\"Achievement unlocked('Netflix and chill ???')\")\n",
        "elif(choice == 16):\n",
        "  print(\"choice 16: \")\n",
        "  print(\"BAN: that sounds good I will make it right away believe it or not I am a really good cook\")\n",
        "  print(\"You watch as the grim reaper himself make you \" + meal)\n",
        "  print(\"The fragrance it makes it like no other. The oil sizeling, The aroma of the dish making your mouth water.\")\n",
        "  print(\"BAN: It is ready \" + username + \"I made it just like my mother taught me\")\n",
        "  print(\"BAN: believe it or not my mother actually liked this dish as well\")\n",
        "  print(\"BAN: it was a surprise that you picked it as well\")\n",
        "  print(\"you and BAN sit down to eat a little\")\n",
        "  print(\"as easy you begin to see that this person is not as people make him out to be \")\n",
        "  print(\"he is kind and has empathy for life. Maybe we judged him to much. you finnished you meal\")\n",
        "  print(\"BAN: thank you very much for the meal, say \" + username + \" \")\n",
        "  print(\"I have take an interest for you very few actually make me feel like you do \")\n",
        "  print(\"I would like to ask if you could stay by my side a little longer\")\n",
        "  print(\"Choice 17 : Stay with BAN in the underworld\")\n",
        "  print(\"choice 18 : Refuse BANs Offer\")"
      ],
      "metadata": {
        "colab": {
          "base_uri": "https://localhost:8080/"
        },
        "id": "Ubg1W1qRp_cy",
        "outputId": "e59f4b99-6263-4b70-8f06-39d116ff0a23"
      },
      "id": "Ubg1W1qRp_cy",
      "execution_count": null,
      "outputs": [
        {
          "output_type": "stream",
          "name": "stdout",
          "text": [
            "ERROR: 404 choice not found\n"
          ]
        }
      ]
    },
    {
      "cell_type": "code",
      "source": [
        "if(choice != -1):\n",
        "  choice = int(input(\"Which choice do you want to make? enter a diget number fot your choice\"))"
      ],
      "metadata": {
        "id": "eztiYBIuxWJL"
      },
      "id": "eztiYBIuxWJL",
      "execution_count": null,
      "outputs": []
    },
    {
      "cell_type": "code",
      "source": [
        "if(choice == 17):\n",
        "  print(\"choice 17:\")\n",
        "  print(\"BAN : Really, Really \" + username + \" you will stay with me. Thank you so much\")\n",
        "  print(\"who knew a grim reaper could make that face.\")\n",
        "  print(\"He is overjoyed and somewhat seductive.\")\n",
        "  print()\n",
        "  print(\"it has now been a year since and\")\n",
        "  print(\"As times went on you start to understand more and more this gentle, kind, and empathetic soul\")\n",
        "  print()\n",
        "  print(\"achievement unlocked ('Grim reapers long lost love')\")\n",
        "  print(\"achievement unlocked('Immortal soul')\")\n",
        "  print(\"achievement unlocked('Queen of the underworld')\")\n",
        "  print(\"achievement unlocked('Tamer of reapers')\")\n",
        "  choice = -1\n",
        "elif(choice != -1):\n",
        "  print(\"choice 18+\")\n",
        "  print(\"BAN: I see. That is ok thank you so much for the wonderful time.\")\n",
        "  print(\"I thank you I remembered my mother and father because of you.\")\n",
        "  print(\"A gently yet sad mist envelops you and you can feel some form of  warmth from the black mist.\")\n",
        "  print(\"BAN: May your soul rest in the highest of the heaven, I may not be able to join you but I will remember you\")\n",
        "  print()\n",
        "  print(\"achievement unlocked('ICE QUEEN')\")\n",
        "  print(\"achievement unlocked ('I was never meant to be')\")\n",
        "  print(\"achivement unlocked('reapers tiers')\")\n",
        "  choice = -1"
      ],
      "metadata": {
        "id": "HsEpKQv8xt-6"
      },
      "id": "HsEpKQv8xt-6",
      "execution_count": null,
      "outputs": []
    }
  ],
  "metadata": {
    "kernelspec": {
      "display_name": "Python 3",
      "language": "python",
      "name": "python3"
    },
    "language_info": {
      "codemirror_mode": {
        "name": "ipython",
        "version": 3
      },
      "file_extension": ".py",
      "mimetype": "text/x-python",
      "name": "python",
      "nbconvert_exporter": "python",
      "pygments_lexer": "ipython3",
      "version": "3.8.8"
    },
    "colab": {
      "name": "Gutierrez_CYOA_Skeleton.ipynb",
      "provenance": [],
      "collapsed_sections": []
    }
  },
  "nbformat": 4,
  "nbformat_minor": 5
}